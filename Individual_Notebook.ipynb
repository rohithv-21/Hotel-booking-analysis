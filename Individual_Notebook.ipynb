{
  "nbformat": 4,
  "nbformat_minor": 0,
  "metadata": {
    "colab": {
      "provenance": [],
      "authorship_tag": "ABX9TyMPjAIasR7JwDMU2rb2a6+l",
      "include_colab_link": true
    },
    "kernelspec": {
      "name": "python3",
      "display_name": "Python 3"
    },
    "language_info": {
      "name": "python"
    }
  },
  "cells": [
    {
      "cell_type": "markdown",
      "metadata": {
        "id": "view-in-github",
        "colab_type": "text"
      },
      "source": [
        "<a href=\"https://colab.research.google.com/github/rohithv-21/Hotel-booking-analysis/blob/main/Individual_Notebook.ipynb\" target=\"_parent\"><img src=\"https://colab.research.google.com/assets/colab-badge.svg\" alt=\"Open In Colab\"/></a>"
      ]
    },
    {
      "cell_type": "markdown",
      "source": [
        "**Have you ever wondered when the best time of year to book a hotel room is? Or the optimal length of stay in order to get the best daily rate? What if you wanted to predict whether or not a hotel was likely to receive a disproportionately high number of special requests? This hotel booking dataset can help you explore those questions!**\n",
        "\n",
        "**This data set contains booking information for a city hotel and a resort hotel, and includes information such as when the booking was made, length of stay, the number of adults, children, and/or babies, and the number of available parking spaces, among other things. All personally identifying information has been removed from the data.**\n",
        "\n",
        "**Explore and analyze the data to discover important factors that govern the bookings.**"
      ],
      "metadata": {
        "id": "fMzIyA03Mwob"
      }
    },
    {
      "cell_type": "code",
      "execution_count": 1,
      "metadata": {
        "id": "22K5eM9GL5Us"
      },
      "outputs": [],
      "source": [
        "# lets import the libraries required for data analysing\n",
        "\n",
        "import numpy as np\n",
        "import pandas as pd\n",
        "import seaborn as sns\n",
        "import matplotlib.pyplot as plt\n",
        "%matplotlib inline"
      ]
    },
    {
      "cell_type": "code",
      "source": [
        "# lets import the data by mounting the drive\n",
        "\n",
        "from google.colab import drive\n",
        "drive.mount('/content/drive')"
      ],
      "metadata": {
        "colab": {
          "base_uri": "https://localhost:8080/"
        },
        "id": "vy7KmJkiM_nR",
        "outputId": "eeba8e37-b03f-44ab-c793-34b632659114"
      },
      "execution_count": 2,
      "outputs": [
        {
          "output_type": "stream",
          "name": "stdout",
          "text": [
            "Mounted at /content/drive\n"
          ]
        }
      ]
    },
    {
      "cell_type": "code",
      "source": [
        "# read the csv file\n",
        "\n",
        "file_path =\"/content/drive/MyDrive/Colab Notebooks/Capstone Project 1/Rohith.V - Hotel booking analysis EDA/Hotel Bookings.csv\"\n",
        "hotel_booking_analysis_data = pd.read_csv(file_path)"
      ],
      "metadata": {
        "id": "3MWBqjxYNCon"
      },
      "execution_count": 5,
      "outputs": []
    },
    {
      "cell_type": "code",
      "source": [
        "# to get the top 5 rows and bottom 5 from the imported data\n",
        "\n",
        "hotel_booking_analysis_data.head()"
      ],
      "metadata": {
        "colab": {
          "base_uri": "https://localhost:8080/",
          "height": 386
        },
        "id": "Rzy1rfuRN-p_",
        "outputId": "0ad784b6-e0af-440a-ffaf-3ef7fdea5bc2"
      },
      "execution_count": 6,
      "outputs": [
        {
          "output_type": "execute_result",
          "data": {
            "text/plain": [
              "          hotel  is_canceled  lead_time  arrival_date_year arrival_date_month  \\\n",
              "0  Resort Hotel            0        342               2015               July   \n",
              "1  Resort Hotel            0        737               2015               July   \n",
              "2  Resort Hotel            0          7               2015               July   \n",
              "3  Resort Hotel            0         13               2015               July   \n",
              "4  Resort Hotel            0         14               2015               July   \n",
              "\n",
              "   arrival_date_week_number  arrival_date_day_of_month  \\\n",
              "0                        27                          1   \n",
              "1                        27                          1   \n",
              "2                        27                          1   \n",
              "3                        27                          1   \n",
              "4                        27                          1   \n",
              "\n",
              "   stays_in_weekend_nights  stays_in_week_nights  adults  ...  deposit_type  \\\n",
              "0                        0                     0       2  ...    No Deposit   \n",
              "1                        0                     0       2  ...    No Deposit   \n",
              "2                        0                     1       1  ...    No Deposit   \n",
              "3                        0                     1       1  ...    No Deposit   \n",
              "4                        0                     2       2  ...    No Deposit   \n",
              "\n",
              "   agent company days_in_waiting_list customer_type   adr  \\\n",
              "0    NaN     NaN                    0     Transient   0.0   \n",
              "1    NaN     NaN                    0     Transient   0.0   \n",
              "2    NaN     NaN                    0     Transient  75.0   \n",
              "3  304.0     NaN                    0     Transient  75.0   \n",
              "4  240.0     NaN                    0     Transient  98.0   \n",
              "\n",
              "   required_car_parking_spaces  total_of_special_requests  reservation_status  \\\n",
              "0                            0                          0           Check-Out   \n",
              "1                            0                          0           Check-Out   \n",
              "2                            0                          0           Check-Out   \n",
              "3                            0                          0           Check-Out   \n",
              "4                            0                          1           Check-Out   \n",
              "\n",
              "  reservation_status_date  \n",
              "0              2015-07-01  \n",
              "1              2015-07-01  \n",
              "2              2015-07-02  \n",
              "3              2015-07-02  \n",
              "4              2015-07-03  \n",
              "\n",
              "[5 rows x 32 columns]"
            ],
            "text/html": [
              "\n",
              "  <div id=\"df-d7ab7df2-c116-4654-92e0-b5757d7dae91\">\n",
              "    <div class=\"colab-df-container\">\n",
              "      <div>\n",
              "<style scoped>\n",
              "    .dataframe tbody tr th:only-of-type {\n",
              "        vertical-align: middle;\n",
              "    }\n",
              "\n",
              "    .dataframe tbody tr th {\n",
              "        vertical-align: top;\n",
              "    }\n",
              "\n",
              "    .dataframe thead th {\n",
              "        text-align: right;\n",
              "    }\n",
              "</style>\n",
              "<table border=\"1\" class=\"dataframe\">\n",
              "  <thead>\n",
              "    <tr style=\"text-align: right;\">\n",
              "      <th></th>\n",
              "      <th>hotel</th>\n",
              "      <th>is_canceled</th>\n",
              "      <th>lead_time</th>\n",
              "      <th>arrival_date_year</th>\n",
              "      <th>arrival_date_month</th>\n",
              "      <th>arrival_date_week_number</th>\n",
              "      <th>arrival_date_day_of_month</th>\n",
              "      <th>stays_in_weekend_nights</th>\n",
              "      <th>stays_in_week_nights</th>\n",
              "      <th>adults</th>\n",
              "      <th>...</th>\n",
              "      <th>deposit_type</th>\n",
              "      <th>agent</th>\n",
              "      <th>company</th>\n",
              "      <th>days_in_waiting_list</th>\n",
              "      <th>customer_type</th>\n",
              "      <th>adr</th>\n",
              "      <th>required_car_parking_spaces</th>\n",
              "      <th>total_of_special_requests</th>\n",
              "      <th>reservation_status</th>\n",
              "      <th>reservation_status_date</th>\n",
              "    </tr>\n",
              "  </thead>\n",
              "  <tbody>\n",
              "    <tr>\n",
              "      <th>0</th>\n",
              "      <td>Resort Hotel</td>\n",
              "      <td>0</td>\n",
              "      <td>342</td>\n",
              "      <td>2015</td>\n",
              "      <td>July</td>\n",
              "      <td>27</td>\n",
              "      <td>1</td>\n",
              "      <td>0</td>\n",
              "      <td>0</td>\n",
              "      <td>2</td>\n",
              "      <td>...</td>\n",
              "      <td>No Deposit</td>\n",
              "      <td>NaN</td>\n",
              "      <td>NaN</td>\n",
              "      <td>0</td>\n",
              "      <td>Transient</td>\n",
              "      <td>0.0</td>\n",
              "      <td>0</td>\n",
              "      <td>0</td>\n",
              "      <td>Check-Out</td>\n",
              "      <td>2015-07-01</td>\n",
              "    </tr>\n",
              "    <tr>\n",
              "      <th>1</th>\n",
              "      <td>Resort Hotel</td>\n",
              "      <td>0</td>\n",
              "      <td>737</td>\n",
              "      <td>2015</td>\n",
              "      <td>July</td>\n",
              "      <td>27</td>\n",
              "      <td>1</td>\n",
              "      <td>0</td>\n",
              "      <td>0</td>\n",
              "      <td>2</td>\n",
              "      <td>...</td>\n",
              "      <td>No Deposit</td>\n",
              "      <td>NaN</td>\n",
              "      <td>NaN</td>\n",
              "      <td>0</td>\n",
              "      <td>Transient</td>\n",
              "      <td>0.0</td>\n",
              "      <td>0</td>\n",
              "      <td>0</td>\n",
              "      <td>Check-Out</td>\n",
              "      <td>2015-07-01</td>\n",
              "    </tr>\n",
              "    <tr>\n",
              "      <th>2</th>\n",
              "      <td>Resort Hotel</td>\n",
              "      <td>0</td>\n",
              "      <td>7</td>\n",
              "      <td>2015</td>\n",
              "      <td>July</td>\n",
              "      <td>27</td>\n",
              "      <td>1</td>\n",
              "      <td>0</td>\n",
              "      <td>1</td>\n",
              "      <td>1</td>\n",
              "      <td>...</td>\n",
              "      <td>No Deposit</td>\n",
              "      <td>NaN</td>\n",
              "      <td>NaN</td>\n",
              "      <td>0</td>\n",
              "      <td>Transient</td>\n",
              "      <td>75.0</td>\n",
              "      <td>0</td>\n",
              "      <td>0</td>\n",
              "      <td>Check-Out</td>\n",
              "      <td>2015-07-02</td>\n",
              "    </tr>\n",
              "    <tr>\n",
              "      <th>3</th>\n",
              "      <td>Resort Hotel</td>\n",
              "      <td>0</td>\n",
              "      <td>13</td>\n",
              "      <td>2015</td>\n",
              "      <td>July</td>\n",
              "      <td>27</td>\n",
              "      <td>1</td>\n",
              "      <td>0</td>\n",
              "      <td>1</td>\n",
              "      <td>1</td>\n",
              "      <td>...</td>\n",
              "      <td>No Deposit</td>\n",
              "      <td>304.0</td>\n",
              "      <td>NaN</td>\n",
              "      <td>0</td>\n",
              "      <td>Transient</td>\n",
              "      <td>75.0</td>\n",
              "      <td>0</td>\n",
              "      <td>0</td>\n",
              "      <td>Check-Out</td>\n",
              "      <td>2015-07-02</td>\n",
              "    </tr>\n",
              "    <tr>\n",
              "      <th>4</th>\n",
              "      <td>Resort Hotel</td>\n",
              "      <td>0</td>\n",
              "      <td>14</td>\n",
              "      <td>2015</td>\n",
              "      <td>July</td>\n",
              "      <td>27</td>\n",
              "      <td>1</td>\n",
              "      <td>0</td>\n",
              "      <td>2</td>\n",
              "      <td>2</td>\n",
              "      <td>...</td>\n",
              "      <td>No Deposit</td>\n",
              "      <td>240.0</td>\n",
              "      <td>NaN</td>\n",
              "      <td>0</td>\n",
              "      <td>Transient</td>\n",
              "      <td>98.0</td>\n",
              "      <td>0</td>\n",
              "      <td>1</td>\n",
              "      <td>Check-Out</td>\n",
              "      <td>2015-07-03</td>\n",
              "    </tr>\n",
              "  </tbody>\n",
              "</table>\n",
              "<p>5 rows × 32 columns</p>\n",
              "</div>\n",
              "      <button class=\"colab-df-convert\" onclick=\"convertToInteractive('df-d7ab7df2-c116-4654-92e0-b5757d7dae91')\"\n",
              "              title=\"Convert this dataframe to an interactive table.\"\n",
              "              style=\"display:none;\">\n",
              "        \n",
              "  <svg xmlns=\"http://www.w3.org/2000/svg\" height=\"24px\"viewBox=\"0 0 24 24\"\n",
              "       width=\"24px\">\n",
              "    <path d=\"M0 0h24v24H0V0z\" fill=\"none\"/>\n",
              "    <path d=\"M18.56 5.44l.94 2.06.94-2.06 2.06-.94-2.06-.94-.94-2.06-.94 2.06-2.06.94zm-11 1L8.5 8.5l.94-2.06 2.06-.94-2.06-.94L8.5 2.5l-.94 2.06-2.06.94zm10 10l.94 2.06.94-2.06 2.06-.94-2.06-.94-.94-2.06-.94 2.06-2.06.94z\"/><path d=\"M17.41 7.96l-1.37-1.37c-.4-.4-.92-.59-1.43-.59-.52 0-1.04.2-1.43.59L10.3 9.45l-7.72 7.72c-.78.78-.78 2.05 0 2.83L4 21.41c.39.39.9.59 1.41.59.51 0 1.02-.2 1.41-.59l7.78-7.78 2.81-2.81c.8-.78.8-2.07 0-2.86zM5.41 20L4 18.59l7.72-7.72 1.47 1.35L5.41 20z\"/>\n",
              "  </svg>\n",
              "      </button>\n",
              "      \n",
              "  <style>\n",
              "    .colab-df-container {\n",
              "      display:flex;\n",
              "      flex-wrap:wrap;\n",
              "      gap: 12px;\n",
              "    }\n",
              "\n",
              "    .colab-df-convert {\n",
              "      background-color: #E8F0FE;\n",
              "      border: none;\n",
              "      border-radius: 50%;\n",
              "      cursor: pointer;\n",
              "      display: none;\n",
              "      fill: #1967D2;\n",
              "      height: 32px;\n",
              "      padding: 0 0 0 0;\n",
              "      width: 32px;\n",
              "    }\n",
              "\n",
              "    .colab-df-convert:hover {\n",
              "      background-color: #E2EBFA;\n",
              "      box-shadow: 0px 1px 2px rgba(60, 64, 67, 0.3), 0px 1px 3px 1px rgba(60, 64, 67, 0.15);\n",
              "      fill: #174EA6;\n",
              "    }\n",
              "\n",
              "    [theme=dark] .colab-df-convert {\n",
              "      background-color: #3B4455;\n",
              "      fill: #D2E3FC;\n",
              "    }\n",
              "\n",
              "    [theme=dark] .colab-df-convert:hover {\n",
              "      background-color: #434B5C;\n",
              "      box-shadow: 0px 1px 3px 1px rgba(0, 0, 0, 0.15);\n",
              "      filter: drop-shadow(0px 1px 2px rgba(0, 0, 0, 0.3));\n",
              "      fill: #FFFFFF;\n",
              "    }\n",
              "  </style>\n",
              "\n",
              "      <script>\n",
              "        const buttonEl =\n",
              "          document.querySelector('#df-d7ab7df2-c116-4654-92e0-b5757d7dae91 button.colab-df-convert');\n",
              "        buttonEl.style.display =\n",
              "          google.colab.kernel.accessAllowed ? 'block' : 'none';\n",
              "\n",
              "        async function convertToInteractive(key) {\n",
              "          const element = document.querySelector('#df-d7ab7df2-c116-4654-92e0-b5757d7dae91');\n",
              "          const dataTable =\n",
              "            await google.colab.kernel.invokeFunction('convertToInteractive',\n",
              "                                                     [key], {});\n",
              "          if (!dataTable) return;\n",
              "\n",
              "          const docLinkHtml = 'Like what you see? Visit the ' +\n",
              "            '<a target=\"_blank\" href=https://colab.research.google.com/notebooks/data_table.ipynb>data table notebook</a>'\n",
              "            + ' to learn more about interactive tables.';\n",
              "          element.innerHTML = '';\n",
              "          dataTable['output_type'] = 'display_data';\n",
              "          await google.colab.output.renderOutput(dataTable, element);\n",
              "          const docLink = document.createElement('div');\n",
              "          docLink.innerHTML = docLinkHtml;\n",
              "          element.appendChild(docLink);\n",
              "        }\n",
              "      </script>\n",
              "    </div>\n",
              "  </div>\n",
              "  "
            ]
          },
          "metadata": {},
          "execution_count": 6
        }
      ]
    },
    {
      "cell_type": "code",
      "source": [
        "hotel_booking_analysis_data.tail()"
      ],
      "metadata": {
        "id": "d123UMsPOGq_"
      },
      "execution_count": null,
      "outputs": []
    },
    {
      "cell_type": "code",
      "source": [
        "# lets get more info about numerical data\n",
        "hotel_booking_analysis_data.describe()"
      ],
      "metadata": {
        "id": "zqHbEFwDOHo3"
      },
      "execution_count": null,
      "outputs": []
    },
    {
      "cell_type": "code",
      "source": [
        "# find count of number of rows and columns\n",
        "hotel_booking_analysis_data.shape"
      ],
      "metadata": {
        "id": "R6qe_qcuOKQZ"
      },
      "execution_count": null,
      "outputs": []
    },
    {
      "cell_type": "markdown",
      "source": [
        "From the data we have 119390 rows and 32 columns"
      ],
      "metadata": {
        "id": "yLbBw4fDOOip"
      }
    },
    {
      "cell_type": "code",
      "source": [
        "# lets analyze the data basically\n",
        "\n",
        "hotel_booking_analysis_data.info()"
      ],
      "metadata": {
        "id": "Vum58NYOOMk4"
      },
      "execution_count": null,
      "outputs": []
    },
    {
      "cell_type": "markdown",
      "source": [
        "Create a copy of the given dataset, so that our original dataset remains unchanged"
      ],
      "metadata": {
        "id": "0EgY8XbmOTDw"
      }
    },
    {
      "cell_type": "code",
      "source": [
        "# creating the copy of the given data\n",
        "\n",
        "df = hotel_booking_analysis_data.copy()"
      ],
      "metadata": {
        "id": "mh5V_gEaORVA"
      },
      "execution_count": null,
      "outputs": []
    },
    {
      "cell_type": "code",
      "source": [
        "# to find the sum of null rows \n",
        "\n",
        "df.isnull().sum()"
      ],
      "metadata": {
        "id": "BGvoiT4vOV0n"
      },
      "execution_count": null,
      "outputs": []
    },
    {
      "cell_type": "markdown",
      "source": [
        "# Data cleaning and handling of missing values"
      ],
      "metadata": {
        "id": "8dVG5iy7ObKA"
      }
    },
    {
      "cell_type": "markdown",
      "source": [
        "Lets find the percentage of null values present in the dataset"
      ],
      "metadata": {
        "id": "46V7Sp-sOgEP"
      }
    },
    {
      "cell_type": "code",
      "source": [
        "# Create a function to find percentage of null values present\n",
        "\n",
        "def percent_missing(df):\n",
        "    percent_nan = df.isnull().sum() / len(df) * 100\n",
        "    percent_nan = percent_nan[percent_nan>0].sort_values(ascending = False)\n",
        "    return percent_nan "
      ],
      "metadata": {
        "id": "tZ4nwvSSOXzl"
      },
      "execution_count": null,
      "outputs": []
    },
    {
      "cell_type": "code",
      "source": [
        "percent_nan = percent_missing(df)\n",
        "percent_nan"
      ],
      "metadata": {
        "id": "4I44NepwOik5"
      },
      "execution_count": null,
      "outputs": []
    },
    {
      "cell_type": "code",
      "source": [
        "x = percent_nan.plot(figsize = (10,5) , kind = \"bar\")\n",
        "plt.title('PERCENTAGE OF NULL VALUES' , fontsize = 20)\n",
        "plt.ylabel('Percentage' , fontsize = 15)\n",
        "plt.xlabel('Null value Columns' , fontsize = 15)"
      ],
      "metadata": {
        "id": "7GTQk_WGOkFn"
      },
      "execution_count": null,
      "outputs": []
    },
    {
      "cell_type": "markdown",
      "source": [
        "**Inference :** Clearly from the graph company column has got 94% and agent column has got 13% of null values where country and children columns has got less than 1%."
      ],
      "metadata": {
        "id": "Tdefa09mOpR_"
      }
    },
    {
      "cell_type": "markdown",
      "source": [
        "Since the company column has got 94% of the null values it is better to drop out this column"
      ],
      "metadata": {
        "id": "cJUJ-YqtOyHy"
      }
    },
    {
      "cell_type": "code",
      "source": [
        "df.drop([\"company\"] ,axis = 1, inplace = True)"
      ],
      "metadata": {
        "id": "2RJAQuw8Ol4x"
      },
      "execution_count": null,
      "outputs": []
    },
    {
      "cell_type": "code",
      "source": [
        "df.shape"
      ],
      "metadata": {
        "id": "3c3V2j1vO1rZ"
      },
      "execution_count": null,
      "outputs": []
    },
    {
      "cell_type": "markdown",
      "source": [
        "We will fill the agent id with \"Agent\" and null agent id with \"No Agent\""
      ],
      "metadata": {
        "id": "Oqqi6T9zO6cA"
      }
    },
    {
      "cell_type": "code",
      "source": [
        "# First we will fill the agent ids with 'Agent'\n",
        "\n",
        "df.loc[df.agent.isnull()==False,'agent']='Agent'"
      ],
      "metadata": {
        "id": "pR-jJ8nlO2_M"
      },
      "execution_count": null,
      "outputs": []
    },
    {
      "cell_type": "code",
      "source": [
        "# Now we will fill the null values present in agent ids with 'No agent'\n",
        "\n",
        "df.agent.fillna('No agent',inplace=True)"
      ],
      "metadata": {
        "id": "idtVGJVKO87W"
      },
      "execution_count": null,
      "outputs": []
    },
    {
      "cell_type": "code",
      "source": [
        "df[[\"agent\"]].head()"
      ],
      "metadata": {
        "id": "4fVb2-XsO-yc"
      },
      "execution_count": null,
      "outputs": []
    },
    {
      "cell_type": "markdown",
      "source": [
        "We would fill the missing values in the country coulumns with 'Unknown' since we do not seem to find any references to other columns"
      ],
      "metadata": {
        "id": "P4NdKC0KPGDf"
      }
    },
    {
      "cell_type": "code",
      "source": [
        "df.country.fillna('Unknown',inplace=True)"
      ],
      "metadata": {
        "id": "jWXXmH5IPDNU"
      },
      "execution_count": null,
      "outputs": []
    },
    {
      "cell_type": "code",
      "source": [
        "df[\"country\"]"
      ],
      "metadata": {
        "id": "u7pTJ-b0PKOp"
      },
      "execution_count": null,
      "outputs": []
    },
    {
      "cell_type": "markdown",
      "source": [
        "We would fill the missing values in the children column with 0"
      ],
      "metadata": {
        "id": "P2_vHm-zPNC3"
      }
    },
    {
      "cell_type": "code",
      "source": [
        "df.children.fillna(0,inplace=True)"
      ],
      "metadata": {
        "id": "bPY4SRuaPKuV"
      },
      "execution_count": null,
      "outputs": []
    },
    {
      "cell_type": "code",
      "source": [
        "df[[\"children\"]].astype(\"int64\")"
      ],
      "metadata": {
        "id": "WAFSesIRPPSd"
      },
      "execution_count": null,
      "outputs": []
    },
    {
      "cell_type": "code",
      "source": [
        "# lets check again if we have any nulls present in our dataset\n",
        "\n",
        "df.isnull().sum()"
      ],
      "metadata": {
        "id": "XUflZ3mMPdOZ"
      },
      "execution_count": null,
      "outputs": []
    },
    {
      "cell_type": "markdown",
      "source": [
        "So now we got all the columns and rows with no null values.\n",
        "\n",
        "Now our data is cleaned and missing values has been tackled"
      ],
      "metadata": {
        "id": "M2lNUEnVPhoa"
      }
    },
    {
      "cell_type": "markdown",
      "source": [
        "Now, lets check for duplicate data, if present lets remove those values"
      ],
      "metadata": {
        "id": "q62vk9N_PibY"
      }
    },
    {
      "cell_type": "code",
      "source": [
        "# checking for duplicate data\n",
        "df.duplicated().sum()"
      ],
      "metadata": {
        "id": "cbqMam4cPf0I"
      },
      "execution_count": null,
      "outputs": []
    },
    {
      "cell_type": "code",
      "source": [
        "# removing the duplicate data\n",
        "df.drop_duplicates(inplace = True)"
      ],
      "metadata": {
        "id": "kCPVN-57Pp3r"
      },
      "execution_count": null,
      "outputs": []
    },
    {
      "cell_type": "markdown",
      "source": [
        "We are adding 2 Extra Columns for more clarification\n",
        "1.   Total Stay in the Hotel\n",
        "2.   Total number of people\n",
        "\n"
      ],
      "metadata": {
        "id": "3PevfY0oPwN9"
      }
    },
    {
      "cell_type": "code",
      "source": [
        "# Adding total staying days in hotels\n",
        "df['total_stay'] = df['stays_in_weekend_nights']+df['stays_in_week_nights']\n",
        "df[['total_stay']].head()"
      ],
      "metadata": {
        "id": "yVeSxrXTP1Rr"
      },
      "execution_count": null,
      "outputs": []
    },
    {
      "cell_type": "code",
      "source": [
        "# Adding total people num as column, i.e. total people num = num of adults + children + babies\n",
        "df['total_people'] = df['adults']+df['children']+df['babies']\n",
        "df[['total_people']].head().astype(\"int64\")"
      ],
      "metadata": {
        "id": "mTAX_Oy3P4Fp"
      },
      "execution_count": null,
      "outputs": []
    },
    {
      "cell_type": "markdown",
      "source": [
        "# Performing EDA"
      ],
      "metadata": {
        "id": "hlSBNzNiQHPv"
      }
    },
    {
      "cell_type": "markdown",
      "source": [
        "**EDA based on Cancelation bookings**"
      ],
      "metadata": {
        "id": "zjfnTIpdQJqY"
      }
    },
    {
      "cell_type": "markdown",
      "source": [
        "1) Cancelation done on the basis of months"
      ],
      "metadata": {
        "id": "FwTWXrpPQOlf"
      }
    },
    {
      "cell_type": "code",
      "source": [
        "# Lets Select and count the number of cancelled bookings based on months.\n",
        "cancelled_data = df[df['is_canceled'] == 1]\n",
        "cancelled = cancelled_data.groupby('arrival_date_month')\n",
        "x = pd.DataFrame(cancelled.size()).rename(columns = {0:'total_cancelled_bookings'})\n",
        "\n",
        "# Count the total number of bookings for each month\n",
        "grouped_by_hotel = df.groupby('arrival_date_month')\n",
        "total_booking = grouped_by_hotel.size()\n",
        "y = pd.DataFrame(total_booking).rename(columns = {0: 'total_bookings'})\n",
        "z = pd.concat([x,y], axis = 1)\n",
        "\n",
        "# Calculating cancel percentage \n",
        "z['cancel_%'] = round((z['total_cancelled_bookings']/z['total_bookings'])*100,2)\n",
        "z"
      ],
      "metadata": {
        "id": "xwZHE5qhP7Z5"
      },
      "execution_count": null,
      "outputs": []
    },
    {
      "cell_type": "code",
      "source": [
        "plt.figure(figsize = (10,5))\n",
        "sns.barplot(x = z.index, y = z['cancel_%']).set_title(\"Hotel having High Cancelation Rate\" , fontsize = 20)\n",
        "plt.show()"
      ],
      "metadata": {
        "id": "m4FKeMsjQge2"
      },
      "execution_count": null,
      "outputs": []
    },
    {
      "cell_type": "markdown",
      "source": [
        "**Inference :** From the analyzation, in the month of july and august cancelation is done more."
      ],
      "metadata": {
        "id": "7R0mOfgjQjMW"
      }
    },
    {
      "cell_type": "markdown",
      "source": [
        "2) Hotels having high cancelation rate"
      ],
      "metadata": {
        "id": "tIJ69MU6Qoa-"
      }
    },
    {
      "cell_type": "code",
      "source": [
        "# Lets Select and count the number of cancelled bookings for each hotel.\n",
        "cancelled_data_over_week_no = df[df['is_canceled'] == 1]\n",
        "cancel = cancelled_data_over_week_no.groupby('hotel')\n",
        "a = pd.DataFrame(cancel.size()).rename(columns = {0:'total_cancelled_bookings'})\n",
        "\n",
        "# Count the total number of bookings for each type of hotel\n",
        "grouped_hotel = df.groupby('hotel')\n",
        "total_booking_done = grouped_hotel.size()\n",
        "b = pd.DataFrame(total_booking_done).rename(columns = {0: 'total_bookings'})\n",
        "c = pd.concat([a,b], axis = 1)\n",
        "\n",
        "# Calculating cancel percentage \n",
        "c['cancel%'] = round((c['total_cancelled_bookings']/c['total_bookings'])*100,2)\n",
        "c"
      ],
      "metadata": {
        "id": "MZ7VqyrXQlyF"
      },
      "execution_count": null,
      "outputs": []
    },
    {
      "cell_type": "code",
      "source": [
        "plt.figure(figsize = (10,5))\n",
        "sns.barplot(x = c.index, y = c['cancel%']).set_title(\"Hotel having High Cancelation Rate\" , fontsize = 20)\n",
        "plt.show()"
      ],
      "metadata": {
        "id": "Xa3mkCPrRaJ7"
      },
      "execution_count": null,
      "outputs": []
    },
    {
      "cell_type": "markdown",
      "source": [
        "**Inference :** City hotels have higher cancelation rates (of 30%) compared to resort hotels"
      ],
      "metadata": {
        "id": "pVbiFE5wRbVr"
      }
    },
    {
      "cell_type": "markdown",
      "source": [
        "**EDA based on Meals**"
      ],
      "metadata": {
        "id": "6zMqbB4JR_zj"
      }
    },
    {
      "cell_type": "code",
      "source": [
        "# categories of meal feature  we have in our data\n",
        "df['meal'].unique()"
      ],
      "metadata": {
        "id": "IOTioXaPRepr"
      },
      "execution_count": null,
      "outputs": []
    },
    {
      "cell_type": "markdown",
      "source": [
        "**People at each hotel can choose from four categories of meals which they can book their respective stays with, let's briefly see what those are**\n",
        "*   Undefined/SC – no meal package\n",
        "*   BB – Bed & Breakfast\n",
        "*   HB – Half board (breakfast and one other meal – usually dinner)\n",
        "*   FB – Full board (breakfast, lunch and dinner)"
      ],
      "metadata": {
        "id": "14fp3bSySjwr"
      }
    },
    {
      "cell_type": "code",
      "source": [
        "# Group them according to City and Resort Hotels\n",
        "meal_category = df.groupby(['hotel'])['meal'].value_counts()\n",
        "meal_category"
      ],
      "metadata": {
        "id": "R_2wmyjQSiFu"
      },
      "execution_count": null,
      "outputs": []
    },
    {
      "cell_type": "code",
      "source": [
        "plt.rcParams['figure.figsize'] = (10,5)\n",
        "meal_category.plot(kind= 'bar')\n",
        "\n",
        "plt.ylabel('No. of bookings',fontsize = 15)\n",
        "plt.xlabel('Hotel/Meal',fontsize = 15)\n",
        "plt.title('Meals opted in each hotels',fontsize = 20)"
      ],
      "metadata": {
        "id": "7SIzITJ2SzJB"
      },
      "execution_count": null,
      "outputs": []
    },
    {
      "cell_type": "markdown",
      "source": [
        "**Inference :** Most the peoples prefer to opt BB(Bed & Breakfast) in both city and resort hotels."
      ],
      "metadata": {
        "id": "RIxQkcpnS2he"
      }
    },
    {
      "cell_type": "markdown",
      "source": [
        "From the above chart, let me explain how. We have each hotel with respective food categories and the number of booking that people are doing in each hotel with each meal category, now it is clear that, in Resort Hotel or city Hotel, people mostly prefer to go with the BB-category (i.e., bed and breakfast)"
      ],
      "metadata": {
        "id": "RZiZwwpES6Fm"
      }
    },
    {
      "cell_type": "markdown",
      "source": [
        "**EDA based on country**"
      ],
      "metadata": {
        "id": "9QL1PpGrE9rZ"
      }
    },
    {
      "cell_type": "code",
      "source": [],
      "metadata": {
        "id": "3XiHlYqUS4ml"
      },
      "execution_count": null,
      "outputs": []
    }
  ]
}